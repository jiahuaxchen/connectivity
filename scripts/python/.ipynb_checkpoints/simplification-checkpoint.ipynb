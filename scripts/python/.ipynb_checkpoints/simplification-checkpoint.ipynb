{
 "cells": [
  {
   "cell_type": "code",
   "execution_count": 1,
   "metadata": {
    "collapsed": false,
    "pycharm": {
     "name": "#%%\n"
    }
   },
   "outputs": [],
   "source": [
    "## Adapted from achic19 git@github.com:achic19/SOD.git\n",
    "\n",
    "## Run when initialise the code\n",
    "import os\n",
    "\n",
    "import geopandas as gpd\n",
    "import osmnx as ox\n",
    "from geopandas import GeoDataFrame, GeoSeries\n",
    "from osmnx import io\n",
    "import glob\n",
    "import pickle\n",
    "project_crs = 'epsg:3857'\n",
    "from sklearn.cluster import DBSCAN\n",
    "from shapely.geometry import Polygon, Point, LineString, MultiPolygon, MultiPoint\n",
    "import math\n",
    "import warnings\n",
    "import pandas as pd\n",
    "import shutil\n",
    "from tqdm import tqdm\n",
    "import time\n",
    "import matplotlib.pyplot as plt\n",
    "warnings.filterwarnings(action='ignore')\n",
    "from momepy import remove_false_nodes, extend_lines\n",
    "from itertools import combinations\n",
    "pjr_loc = os.path.dirname(os.getcwd())\n",
    "import ast  # to convert str with list to list of string\n",
    "import sys\n",
    "\n",
    "from pandas import DataFrame\n",
    "\n",
    "# NEW\n",
    "import numpy as np\n",
    "from math import log2"
   ]
  },
  {
   "cell_type": "code",
   "execution_count": 2,
   "metadata": {
    "collapsed": false,
    "pycharm": {
     "name": "#%%\n"
    }
   },
   "outputs": [
    {
     "name": "stdout",
     "output_type": "stream",
     "text": [
      "Turin\n"
     ]
    }
   ],
   "source": [
    "## Choose locations and create folders if necessary\n",
    "\n",
    "place = 'Turin'\n",
    "print(place)\n",
    "data_folder  = f'{pjr_loc}/places/{place.replace(\",\",\"_\").replace(\" \",\"_\")}_test'\n",
    "os.makedirs(f'{data_folder}/delete_2_nodes',exist_ok = True)\n",
    "os.makedirs(f'{data_folder}/split_tp_intersection',exist_ok = True)\n",
    "if place =='Tel Aviv':\n",
    "    useful_tags_path = ['name:en','highway','length','bearing','tunnel','junction']\n",
    "    ox.utils.config(useful_tags_way=useful_tags_path)\n"
   ]
  },
  {
   "cell_type": "code",
   "execution_count": null,
   "metadata": {
    "collapsed": false,
    "pycharm": {
     "name": "#%%\n"
    }
   },
   "outputs": [],
   "source": [
    "# Download data\n",
    "graph = ox.graph_from_place(place, network_type='all')\n",
    "graph = ox.bearing.add_edge_bearings(graph, precision=1)\n",
    "graph_pro = ox.projection.project_graph(graph, to_crs=project_crs)\n",
    "io.save_graph_geopackage(graph_pro, filepath=f'{data_folder}/osm_data.gpkg', encoding='utf-8', directed=False)"
   ]
  },
  {
   "cell_type": "code",
   "execution_count": 4,
   "metadata": {
    "collapsed": false,
    "pycharm": {
     "name": "#%%\n"
    }
   },
   "outputs": [],
   "source": [
    "## Filter out polylines and calculate angles\n",
    "my_gdf = gpd.read_file(f'{data_folder}/osm_data.gpkg',\n",
    "                       layer='edges')  # Identify roundabout elements, if any exist, and store them in a separate DataFrame.\n",
    "if place =='Tel Aviv':\n",
    "    my_gdf.rename(columns={'name:en':'name'}, inplace=True)\n",
    "\n",
    "is_junction = True if 'junction' in my_gdf.columns else False\n",
    "if is_junction:\n",
    "    round_about = my_gdf[my_gdf['junction'].isin(['roundabout', 'circular'])]\n",
    "    my_gdf = my_gdf[~((my_gdf['junction'] == 'roundabout') | (my_gdf['junction'] == 'circular'))]\n",
    "to_remove = my_gdf[~((my_gdf['highway'] == 'motorway') | (my_gdf['highway'] == 'trunk')| (my_gdf['highway'] == 'motorway_link')| (my_gdf['highway'] == 'motorway_link')| (my_gdf['highway'] == 'trunk_link'))]\n",
    "# Eliminate polylines that lack a name and calculate angles ranging from 0 to 180 degrees based on the bearing field.\n",
    "df_pro = to_remove.to_crs(project_crs).dropna(subset=['name'])\n",
    "df_pro = df_pro[df_pro['name']!='']\n",
    "df_pro['angle'] = df_pro['bearing'].apply(lambda x: x if x < 180 else x - 180)\n",
    "df_pro['length'] = df_pro.length\n",
    "\n",
    " # Function to convert valid list strings to lists\n",
    "def convert_to_list(s):\n",
    "    try:\n",
    "        return ast.literal_eval(s)[0]\n",
    "    except (ValueError, SyntaxError,TypeError):\n",
    "        return s  # Return the original string if conversion fails\n",
    "\n",
    "# Apply the function to the DataFrame column so polylines with several street names will return the first name.\n",
    "df_pro['name'] = df_pro['name'].apply(convert_to_list)\n",
    "df_pro['highway'] = df_pro['highway'].apply(convert_to_list)"
   ]
  },
  {
   "cell_type": "code",
   "execution_count": null,
   "metadata": {
    "collapsed": false,
    "pycharm": {
     "name": "#%%\n"
    }
   },
   "outputs": [],
   "source": [
    "# Detect multi lanes' scenario\n",
    "# DBSCAN and first initial filtering\n",
    "# group the street segments by street name\n",
    "my_groupby = df_pro.groupby('name')\n",
    "dic_final = {'name': [], 'geometry': [], 'highway': [], 'bearing': [], 'group': [],'is_simplified':[]}\n",
    "# Street to test - name = 'Corso Orbassano', '18','Corso Vercelli','Piazza Giuseppe Luigi Lagrange','Corso Peschiera',,'Corso Giambattista Beccaria','Corso Re Umberto',\n",
    "# new to test = 'Corso Valdocco','Corso Ottone Rosai','Via Treviso','Strada del Fortino'\n",
    "name = 'Corso Quintino Sella'\n",
    "res = my_groupby.get_group(name)\n",
    "res = res.dropna(subset=['angle'], axis=0)\n",
    "if len(res) < 2:\n",
    "    data = res\n",
    "    _  = res['geometry'].apply(lambda x:update_df_with_center_line(x))\n",
    "# Use DBSCAN to classify streets based on their angle, and group each class. Outliers could not consider parallel with any street, thus removed\n",
    "res['group'] = DBSCAN(eps=10, min_samples=2).fit(res['angle'].to_numpy().reshape(-1, 1)).labels_\n",
    "res"
   ]
  },
  {
   "cell_type": "code",
   "execution_count": 17,
   "metadata": {
    "collapsed": false,
    "pycharm": {
     "name": "#%%\n"
    }
   },
   "outputs": [
    {
     "data": {
      "text/html": [
       "<div style=\"width:100%;\"><div style=\"position:relative;width:100%;height:0;padding-bottom:60%;\"><span style=\"color:#565656\">Make this Notebook Trusted to load map: File -> Trust Notebook</span><iframe srcdoc=\"&lt;!DOCTYPE html&gt;\n",
       "&lt;head&gt;    \n",
       "    &lt;meta http-equiv=&quot;content-type&quot; content=&quot;text/html; charset=UTF-8&quot; /&gt;\n",
       "    \n",
       "        &lt;script&gt;\n",
       "            L_NO_TOUCH = false;\n",
       "            L_DISABLE_3D = false;\n",
       "        &lt;/script&gt;\n",
       "    \n",
       "    &lt;style&gt;html, body {width: 100%;height: 100%;margin: 0;padding: 0;}&lt;/style&gt;\n",
       "    &lt;style&gt;#map {position:absolute;top:0;bottom:0;right:0;left:0;}&lt;/style&gt;\n",
       "    &lt;script src=&quot;https://cdn.jsdelivr.net/npm/leaflet@1.6.0/dist/leaflet.js&quot;&gt;&lt;/script&gt;\n",
       "    &lt;script src=&quot;https://code.jquery.com/jquery-1.12.4.min.js&quot;&gt;&lt;/script&gt;\n",
       "    &lt;script src=&quot;https://maxcdn.bootstrapcdn.com/bootstrap/3.2.0/js/bootstrap.min.js&quot;&gt;&lt;/script&gt;\n",
       "    &lt;script src=&quot;https://cdnjs.cloudflare.com/ajax/libs/Leaflet.awesome-markers/2.0.2/leaflet.awesome-markers.js&quot;&gt;&lt;/script&gt;\n",
       "    &lt;link rel=&quot;stylesheet&quot; href=&quot;https://cdn.jsdelivr.net/npm/leaflet@1.6.0/dist/leaflet.css&quot;/&gt;\n",
       "    &lt;link rel=&quot;stylesheet&quot; href=&quot;https://maxcdn.bootstrapcdn.com/bootstrap/3.2.0/css/bootstrap.min.css&quot;/&gt;\n",
       "    &lt;link rel=&quot;stylesheet&quot; href=&quot;https://maxcdn.bootstrapcdn.com/bootstrap/3.2.0/css/bootstrap-theme.min.css&quot;/&gt;\n",
       "    &lt;link rel=&quot;stylesheet&quot; href=&quot;https://maxcdn.bootstrapcdn.com/font-awesome/4.6.3/css/font-awesome.min.css&quot;/&gt;\n",
       "    &lt;link rel=&quot;stylesheet&quot; href=&quot;https://cdnjs.cloudflare.com/ajax/libs/Leaflet.awesome-markers/2.0.2/leaflet.awesome-markers.css&quot;/&gt;\n",
       "    &lt;link rel=&quot;stylesheet&quot; href=&quot;https://cdn.jsdelivr.net/gh/python-visualization/folium/folium/templates/leaflet.awesome.rotate.min.css&quot;/&gt;\n",
       "    \n",
       "            &lt;meta name=&quot;viewport&quot; content=&quot;width=device-width,\n",
       "                initial-scale=1.0, maximum-scale=1.0, user-scalable=no&quot; /&gt;\n",
       "            &lt;style&gt;\n",
       "                #map_1a678ba2e46273e2ff308cd7fc9c6c58 {\n",
       "                    position: relative;\n",
       "                    width: 100.0%;\n",
       "                    height: 100.0%;\n",
       "                    left: 0.0%;\n",
       "                    top: 0.0%;\n",
       "                }\n",
       "            &lt;/style&gt;\n",
       "        \n",
       "    \n",
       "                    &lt;style&gt;\n",
       "                        .foliumtooltip {\n",
       "                            \n",
       "                        }\n",
       "                       .foliumtooltip table{\n",
       "                            margin: auto;\n",
       "                        }\n",
       "                        .foliumtooltip tr{\n",
       "                            text-align: left;\n",
       "                        }\n",
       "                        .foliumtooltip th{\n",
       "                            padding: 2px; padding-right: 8px;\n",
       "                        }\n",
       "                    &lt;/style&gt;\n",
       "            \n",
       "&lt;/head&gt;\n",
       "&lt;body&gt;    \n",
       "    \n",
       "            &lt;div class=&quot;folium-map&quot; id=&quot;map_1a678ba2e46273e2ff308cd7fc9c6c58&quot; &gt;&lt;/div&gt;\n",
       "        \n",
       "&lt;/body&gt;\n",
       "&lt;script&gt;    \n",
       "    \n",
       "            var map_1a678ba2e46273e2ff308cd7fc9c6c58 = L.map(\n",
       "                &quot;map_1a678ba2e46273e2ff308cd7fc9c6c58&quot;,\n",
       "                {\n",
       "                    center: [45.064085399999996, 7.713078099999999],\n",
       "                    crs: L.CRS.EPSG3857,\n",
       "                    zoom: 10,\n",
       "                    zoomControl: true,\n",
       "                    preferCanvas: false,\n",
       "                }\n",
       "            );\n",
       "            L.control.scale().addTo(map_1a678ba2e46273e2ff308cd7fc9c6c58);\n",
       "\n",
       "            \n",
       "\n",
       "        \n",
       "    \n",
       "            var tile_layer_04bf85ba7c00e7f10488d949664054a7 = L.tileLayer(\n",
       "                &quot;https://{s}.tile.openstreetmap.org/{z}/{x}/{y}.png&quot;,\n",
       "                {&quot;attribution&quot;: &quot;Data by \\u0026copy; \\u003ca href=\\&quot;http://openstreetmap.org\\&quot;\\u003eOpenStreetMap\\u003c/a\\u003e, under \\u003ca href=\\&quot;http://www.openstreetmap.org/copyright\\&quot;\\u003eODbL\\u003c/a\\u003e.&quot;, &quot;detectRetina&quot;: false, &quot;maxNativeZoom&quot;: 18, &quot;maxZoom&quot;: 18, &quot;minZoom&quot;: 0, &quot;noWrap&quot;: false, &quot;opacity&quot;: 1, &quot;subdomains&quot;: &quot;abc&quot;, &quot;tms&quot;: false}\n",
       "            ).addTo(map_1a678ba2e46273e2ff308cd7fc9c6c58);\n",
       "        \n",
       "    \n",
       "            map_1a678ba2e46273e2ff308cd7fc9c6c58.fitBounds(\n",
       "                [[45.061480599999996, 7.705589699999998], [45.0666902, 7.720566499999999]],\n",
       "                {}\n",
       "            );\n",
       "        \n",
       "    \n",
       "        function geo_json_fb434d060c16ef852e74f332289e86eb_styler(feature) {\n",
       "            switch(feature.id) {\n",
       "                default:\n",
       "                    return {&quot;fillOpacity&quot;: 0.5, &quot;weight&quot;: 2};\n",
       "            }\n",
       "        }\n",
       "        function geo_json_fb434d060c16ef852e74f332289e86eb_highlighter(feature) {\n",
       "            switch(feature.id) {\n",
       "                default:\n",
       "                    return {&quot;fillOpacity&quot;: 0.75};\n",
       "            }\n",
       "        }\n",
       "        function geo_json_fb434d060c16ef852e74f332289e86eb_pointToLayer(feature, latlng) {\n",
       "            var opts = {&quot;bubblingMouseEvents&quot;: true, &quot;color&quot;: &quot;#3388ff&quot;, &quot;dashArray&quot;: null, &quot;dashOffset&quot;: null, &quot;fill&quot;: true, &quot;fillColor&quot;: &quot;#3388ff&quot;, &quot;fillOpacity&quot;: 0.2, &quot;fillRule&quot;: &quot;evenodd&quot;, &quot;lineCap&quot;: &quot;round&quot;, &quot;lineJoin&quot;: &quot;round&quot;, &quot;opacity&quot;: 1.0, &quot;radius&quot;: 2, &quot;stroke&quot;: true, &quot;weight&quot;: 3};\n",
       "            \n",
       "            let style = geo_json_fb434d060c16ef852e74f332289e86eb_styler(feature)\n",
       "            Object.assign(opts, style)\n",
       "            \n",
       "            return new L.CircleMarker(latlng, opts)\n",
       "        }\n",
       "\n",
       "        function geo_json_fb434d060c16ef852e74f332289e86eb_onEachFeature(feature, layer) {\n",
       "            layer.on({\n",
       "                mouseout: function(e) {\n",
       "                    if(typeof e.target.setStyle === &quot;function&quot;){\n",
       "                        geo_json_fb434d060c16ef852e74f332289e86eb.resetStyle(e.target);\n",
       "                    }\n",
       "                },\n",
       "                mouseover: function(e) {\n",
       "                    if(typeof e.target.setStyle === &quot;function&quot;){\n",
       "                        const highlightStyle = geo_json_fb434d060c16ef852e74f332289e86eb_highlighter(e.target.feature)\n",
       "                        e.target.setStyle(highlightStyle);\n",
       "                    }\n",
       "                },\n",
       "            });\n",
       "        };\n",
       "        var geo_json_fb434d060c16ef852e74f332289e86eb = L.geoJson(null, {\n",
       "                onEachFeature: geo_json_fb434d060c16ef852e74f332289e86eb_onEachFeature,\n",
       "            \n",
       "                style: geo_json_fb434d060c16ef852e74f332289e86eb_styler,\n",
       "                pointToLayer: geo_json_fb434d060c16ef852e74f332289e86eb_pointToLayer\n",
       "        });\n",
       "\n",
       "        function geo_json_fb434d060c16ef852e74f332289e86eb_add (data) {\n",
       "            geo_json_fb434d060c16ef852e74f332289e86eb\n",
       "                .addData(data)\n",
       "                .addTo(map_1a678ba2e46273e2ff308cd7fc9c6c58);\n",
       "        }\n",
       "            geo_json_fb434d060c16ef852e74f332289e86eb_add({&quot;bbox&quot;: [7.705589699999998, 45.061480599999996, 7.720566499999999, 45.0666902], &quot;features&quot;: [{&quot;bbox&quot;: [7.7117135, 45.064363099999994, 7.711882499999999, 45.06441269999999], &quot;geometry&quot;: {&quot;coordinates&quot;: [[7.711882499999999, 45.06441269999999], [7.7117135, 45.064363099999994]], &quot;type&quot;: &quot;LineString&quot;}, &quot;id&quot;: &quot;10365&quot;, &quot;properties&quot;: {&quot;access&quot;: &quot;&quot;, &quot;angle&quot;: 67.4, &quot;bearing&quot;: 247.4, &quot;bridge&quot;: &quot;&quot;, &quot;from&quot;: 915705662, &quot;group&quot;: 0, &quot;highway&quot;: &quot;tertiary&quot;, &quot;junction&quot;: &quot;&quot;, &quot;key&quot;: 0, &quot;lanes&quot;: &quot;2&quot;, &quot;length&quot;: 20.37250200681429, &quot;maxspeed&quot;: &quot;50&quot;, &quot;name&quot;: &quot;Corso Quintino Sella&quot;, &quot;oneway&quot;: false, &quot;osmid&quot;: &quot;133855812&quot;, &quot;ref&quot;: &quot;&quot;, &quot;reversed&quot;: &quot;False&quot;, &quot;service&quot;: &quot;&quot;, &quot;to&quot;: 301250924, &quot;tunnel&quot;: &quot;&quot;, &quot;u&quot;: 301250924, &quot;v&quot;: 915705662, &quot;width&quot;: &quot;&quot;}, &quot;type&quot;: &quot;Feature&quot;}, {&quot;bbox&quot;: [7.711452400000001, 45.0642651, 7.7117135, 45.064363099999994], &quot;geometry&quot;: {&quot;coordinates&quot;: [[7.711452400000001, 45.0642651], [7.7115217, 45.0642909], [7.7116313, 45.06433139999999], [7.7117135, 45.064363099999994]], &quot;type&quot;: &quot;LineString&quot;}, &quot;id&quot;: &quot;10366&quot;, &quot;properties&quot;: {&quot;access&quot;: &quot;&quot;, &quot;angle&quot;: 62.0, &quot;bearing&quot;: 62.0, &quot;bridge&quot;: &quot;&quot;, &quot;from&quot;: 301250934, &quot;group&quot;: 0, &quot;highway&quot;: &quot;tertiary&quot;, &quot;junction&quot;: &quot;&quot;, &quot;key&quot;: 0, &quot;lanes&quot;: &quot;2&quot;, &quot;length&quot;: 32.91552825294306, &quot;maxspeed&quot;: &quot;50&quot;, &quot;name&quot;: &quot;Corso Quintino Sella&quot;, &quot;oneway&quot;: false, &quot;osmid&quot;: &quot;133857785&quot;, &quot;ref&quot;: &quot;&quot;, &quot;reversed&quot;: &quot;True&quot;, &quot;service&quot;: &quot;&quot;, &quot;to&quot;: 301250924, &quot;tunnel&quot;: &quot;&quot;, &quot;u&quot;: 301250924, &quot;v&quot;: 301250934, &quot;width&quot;: &quot;&quot;}, &quot;type&quot;: &quot;Feature&quot;}, {&quot;bbox&quot;: [7.711882499999999, 45.06441269999999, 7.713885, 45.0650526], &quot;geometry&quot;: {&quot;coordinates&quot;: [[7.713885, 45.0650526], [7.713796000000001, 45.06502559999999], [7.712009099999999, 45.064453199999996], [7.711965, 45.0644391], [7.711882499999999, 45.06441269999999]], &quot;type&quot;: &quot;LineString&quot;}, &quot;id&quot;: &quot;10369&quot;, &quot;properties&quot;: {&quot;access&quot;: &quot;&quot;, &quot;angle&quot;: 65.69999999999999, &quot;bearing&quot;: 245.7, &quot;bridge&quot;: &quot;&quot;, &quot;from&quot;: 432428037, &quot;group&quot;: 0, &quot;highway&quot;: &quot;residential&quot;, &quot;junction&quot;: &quot;&quot;, &quot;key&quot;: 0, &quot;lanes&quot;: &quot;&quot;, &quot;length&quot;: 244.67221107607313, &quot;maxspeed&quot;: &quot;&quot;, &quot;name&quot;: &quot;Corso Quintino Sella&quot;, &quot;oneway&quot;: false, &quot;osmid&quot;: &quot;82256508&quot;, &quot;ref&quot;: &quot;&quot;, &quot;reversed&quot;: &quot;False&quot;, &quot;service&quot;: &quot;&quot;, &quot;to&quot;: 915705662, &quot;tunnel&quot;: &quot;&quot;, &quot;u&quot;: 915705662, &quot;v&quot;: 432428037, &quot;width&quot;: &quot;&quot;}, &quot;type&quot;: &quot;Feature&quot;}, {&quot;bbox&quot;: [7.7112305999999995, 45.064163099999995, 7.711452400000001, 45.0642651], &quot;geometry&quot;: {&quot;coordinates&quot;: [[7.7112305999999995, 45.064163099999995], [7.7113236999999994, 45.0642059], [7.711452400000001, 45.0642651]], &quot;type&quot;: &quot;LineString&quot;}, &quot;id&quot;: &quot;10372&quot;, &quot;properties&quot;: {&quot;access&quot;: &quot;&quot;, &quot;angle&quot;: 56.9, &quot;bearing&quot;: 56.9, &quot;bridge&quot;: &quot;&quot;, &quot;from&quot;: 8269943213, &quot;group&quot;: 0, &quot;highway&quot;: &quot;tertiary&quot;, &quot;junction&quot;: &quot;&quot;, &quot;key&quot;: 0, &quot;lanes&quot;: &quot;2&quot;, &quot;length&quot;: 29.462882951684733, &quot;maxspeed&quot;: &quot;50&quot;, &quot;name&quot;: &quot;Corso Quintino Sella&quot;, &quot;oneway&quot;: false, &quot;osmid&quot;: &quot;134460778&quot;, &quot;ref&quot;: &quot;&quot;, &quot;reversed&quot;: &quot;True&quot;, &quot;service&quot;: &quot;&quot;, &quot;to&quot;: 301250934, &quot;tunnel&quot;: &quot;&quot;, &quot;u&quot;: 301250934, &quot;v&quot;: 8269943213, &quot;width&quot;: &quot;&quot;}, &quot;type&quot;: &quot;Feature&quot;}, {&quot;bbox&quot;: [7.710031899999999, 45.0636121, 7.7112305999999995, 45.064163099999995], &quot;geometry&quot;: {&quot;coordinates&quot;: [[7.710031899999999, 45.0636121], [7.711175100000001, 45.0641376], [7.7112305999999995, 45.064163099999995]], &quot;type&quot;: &quot;LineString&quot;}, &quot;id&quot;: &quot;10376&quot;, &quot;properties&quot;: {&quot;access&quot;: &quot;&quot;, &quot;angle&quot;: 56.9, &quot;bearing&quot;: 56.9, &quot;bridge&quot;: &quot;&quot;, &quot;from&quot;: 487230673, &quot;group&quot;: 0, &quot;highway&quot;: &quot;tertiary&quot;, &quot;junction&quot;: &quot;&quot;, &quot;key&quot;: 0, &quot;lanes&quot;: &quot;2&quot;, &quot;length&quot;: 159.20792148143445, &quot;maxspeed&quot;: &quot;50&quot;, &quot;name&quot;: &quot;Corso Quintino Sella&quot;, &quot;oneway&quot;: false, &quot;osmid&quot;: &quot;134460778&quot;, &quot;ref&quot;: &quot;&quot;, &quot;reversed&quot;: &quot;True&quot;, &quot;service&quot;: &quot;&quot;, &quot;to&quot;: 8269943213, &quot;tunnel&quot;: &quot;&quot;, &quot;u&quot;: 8269943213, &quot;v&quot;: 487230673, &quot;width&quot;: &quot;&quot;}, &quot;type&quot;: &quot;Feature&quot;}, {&quot;bbox&quot;: [7.705589699999998, 45.061480599999996, 7.706016399999999, 45.061718799999994], &quot;geometry&quot;: {&quot;coordinates&quot;: [[7.706016399999999, 45.061718799999994], [7.705894600000001, 45.0616888], [7.705739800000001, 45.0616062], [7.7056426, 45.06153989999999], [7.705589699999998, 45.061480599999996]], &quot;type&quot;: &quot;LineString&quot;}, &quot;id&quot;: &quot;13442&quot;, &quot;properties&quot;: {&quot;access&quot;: &quot;&quot;, &quot;angle&quot;: 51.69999999999999, &quot;bearing&quot;: 231.7, &quot;bridge&quot;: &quot;&quot;, &quot;from&quot;: 487230588, &quot;group&quot;: 0, &quot;highway&quot;: &quot;tertiary&quot;, &quot;junction&quot;: &quot;&quot;, &quot;key&quot;: 0, &quot;lanes&quot;: &quot;2&quot;, &quot;length&quot;: 62.04394575965552, &quot;maxspeed&quot;: &quot;30&quot;, &quot;name&quot;: &quot;Corso Quintino Sella&quot;, &quot;oneway&quot;: true, &quot;osmid&quot;: &quot;476368077&quot;, &quot;ref&quot;: &quot;&quot;, &quot;reversed&quot;: &quot;False&quot;, &quot;service&quot;: &quot;&quot;, &quot;to&quot;: 320908409, &quot;tunnel&quot;: &quot;&quot;, &quot;u&quot;: 320908409, &quot;v&quot;: 487230588, &quot;width&quot;: &quot;&quot;}, &quot;type&quot;: &quot;Feature&quot;}, {&quot;bbox&quot;: [7.713885, 45.0650526, 7.7145342, 45.0652603], &quot;geometry&quot;: {&quot;coordinates&quot;: [[7.7145342, 45.0652603], [7.713885, 45.0650526]], &quot;type&quot;: &quot;LineString&quot;}, &quot;id&quot;: &quot;15914&quot;, &quot;properties&quot;: {&quot;access&quot;: &quot;&quot;, &quot;angle&quot;: 65.6, &quot;bearing&quot;: 245.6, &quot;bridge&quot;: &quot;&quot;, &quot;from&quot;: 721969885, &quot;group&quot;: 0, &quot;highway&quot;: &quot;residential&quot;, &quot;junction&quot;: &quot;&quot;, &quot;key&quot;: 0, &quot;lanes&quot;: &quot;&quot;, &quot;length&quot;: 79.33698000517562, &quot;maxspeed&quot;: &quot;&quot;, &quot;name&quot;: &quot;Corso Quintino Sella&quot;, &quot;oneway&quot;: false, &quot;osmid&quot;: &quot;82256508&quot;, &quot;ref&quot;: &quot;&quot;, &quot;reversed&quot;: &quot;False&quot;, &quot;service&quot;: &quot;&quot;, &quot;to&quot;: 432428037, &quot;tunnel&quot;: &quot;&quot;, &quot;u&quot;: 432428037, &quot;v&quot;: 721969885, &quot;width&quot;: &quot;&quot;}, &quot;type&quot;: &quot;Feature&quot;}, {&quot;bbox&quot;: [7.7145342, 45.0652603, 7.714610999999999, 45.0652624], &quot;geometry&quot;: {&quot;coordinates&quot;: [[7.7145342, 45.0652603], [7.714610999999999, 45.0652624]], &quot;type&quot;: &quot;LineString&quot;}, &quot;id&quot;: &quot;15917&quot;, &quot;properties&quot;: {&quot;access&quot;: &quot;&quot;, &quot;angle&quot;: 87.8, &quot;bearing&quot;: 87.8, &quot;bridge&quot;: &quot;&quot;, &quot;from&quot;: 721969885, &quot;group&quot;: 0, &quot;highway&quot;: &quot;residential&quot;, &quot;junction&quot;: &quot;&quot;, &quot;key&quot;: 0, &quot;lanes&quot;: &quot;&quot;, &quot;length&quot;: 8.5557412629735, &quot;maxspeed&quot;: &quot;&quot;, &quot;name&quot;: &quot;Corso Quintino Sella&quot;, &quot;oneway&quot;: true, &quot;osmid&quot;: &quot;61788723&quot;, &quot;ref&quot;: &quot;&quot;, &quot;reversed&quot;: &quot;False&quot;, &quot;service&quot;: &quot;&quot;, &quot;to&quot;: 8325552147, &quot;tunnel&quot;: &quot;&quot;, &quot;u&quot;: 721969885, &quot;v&quot;: 8325552147, &quot;width&quot;: &quot;&quot;}, &quot;type&quot;: &quot;Feature&quot;}, {&quot;bbox&quot;: [7.7145342, 45.0652603, 7.714600599999998, 45.0653043], &quot;geometry&quot;: {&quot;coordinates&quot;: [[7.714600599999998, 45.0653043], [7.7145342, 45.0652603]], &quot;type&quot;: &quot;LineString&quot;}, &quot;id&quot;: &quot;15920&quot;, &quot;properties&quot;: {&quot;access&quot;: &quot;&quot;, &quot;angle&quot;: 46.80000000000001, &quot;bearing&quot;: 226.8, &quot;bridge&quot;: &quot;&quot;, &quot;from&quot;: 8325552146, &quot;group&quot;: 0, &quot;highway&quot;: &quot;residential&quot;, &quot;junction&quot;: &quot;&quot;, &quot;key&quot;: 0, &quot;lanes&quot;: &quot;&quot;, &quot;length&quot;: 10.13545690808059, &quot;maxspeed&quot;: &quot;&quot;, &quot;name&quot;: &quot;Corso Quintino Sella&quot;, &quot;oneway&quot;: true, &quot;osmid&quot;: &quot;82256515&quot;, &quot;ref&quot;: &quot;&quot;, &quot;reversed&quot;: &quot;False&quot;, &quot;service&quot;: &quot;&quot;, &quot;to&quot;: 721969885, &quot;tunnel&quot;: &quot;&quot;, &quot;u&quot;: 721969885, &quot;v&quot;: 8325552146, &quot;width&quot;: &quot;&quot;}, &quot;type&quot;: &quot;Feature&quot;}, {&quot;bbox&quot;: [7.716285499999999, 45.0658473, 7.717093700000001, 45.0660891], &quot;geometry&quot;: {&quot;coordinates&quot;: [[7.717093700000001, 45.0660891], [7.716285499999999, 45.0658473]], &quot;type&quot;: &quot;LineString&quot;}, &quot;id&quot;: &quot;15926&quot;, &quot;properties&quot;: {&quot;access&quot;: &quot;&quot;, &quot;angle&quot;: 67.0, &quot;bearing&quot;: 247.0, &quot;bridge&quot;: &quot;&quot;, &quot;from&quot;: 432428038, &quot;group&quot;: 0, &quot;highway&quot;: &quot;residential&quot;, &quot;junction&quot;: &quot;&quot;, &quot;key&quot;: 0, &quot;lanes&quot;: &quot;&quot;, &quot;length&quot;: 97.70729340920543, &quot;maxspeed&quot;: &quot;&quot;, &quot;name&quot;: &quot;Corso Quintino Sella&quot;, &quot;oneway&quot;: true, &quot;osmid&quot;: &quot;82256515&quot;, &quot;ref&quot;: &quot;&quot;, &quot;reversed&quot;: &quot;False&quot;, &quot;service&quot;: &quot;&quot;, &quot;to&quot;: 769213218, &quot;tunnel&quot;: &quot;&quot;, &quot;u&quot;: 432428038, &quot;v&quot;: 769213218, &quot;width&quot;: &quot;&quot;}, &quot;type&quot;: &quot;Feature&quot;}, {&quot;bbox&quot;: [7.717093700000001, 45.0660891, 7.7175951, 45.0662591], &quot;geometry&quot;: {&quot;coordinates&quot;: [[7.7175951, 45.0662591], [7.717093700000001, 45.0660891]], &quot;type&quot;: &quot;LineString&quot;}, &quot;id&quot;: &quot;15928&quot;, &quot;properties&quot;: {&quot;access&quot;: &quot;&quot;, &quot;angle&quot;: 64.4, &quot;bearing&quot;: 244.4, &quot;bridge&quot;: &quot;&quot;, &quot;from&quot;: 769872347, &quot;group&quot;: 0, &quot;highway&quot;: &quot;residential&quot;, &quot;junction&quot;: &quot;&quot;, &quot;key&quot;: 0, &quot;lanes&quot;: &quot;&quot;, &quot;length&quot;: 61.91363330924419, &quot;maxspeed&quot;: &quot;&quot;, &quot;name&quot;: &quot;Corso Quintino Sella&quot;, &quot;oneway&quot;: true, &quot;osmid&quot;: &quot;82256515&quot;, &quot;ref&quot;: &quot;&quot;, &quot;reversed&quot;: &quot;False&quot;, &quot;service&quot;: &quot;&quot;, &quot;to&quot;: 432428038, &quot;tunnel&quot;: &quot;&quot;, &quot;u&quot;: 432428038, &quot;v&quot;: 769872347, &quot;width&quot;: &quot;&quot;}, &quot;type&quot;: &quot;Feature&quot;}, {&quot;bbox&quot;: [7.715896199999999, 45.065720199999994, 7.716285499999999, 45.0658473], &quot;geometry&quot;: {&quot;coordinates&quot;: [[7.716285499999999, 45.0658473], [7.715896199999999, 45.065720199999994]], &quot;type&quot;: &quot;LineString&quot;}, &quot;id&quot;: &quot;15930&quot;, &quot;properties&quot;: {&quot;access&quot;: &quot;&quot;, &quot;angle&quot;: 65.19999999999999, &quot;bearing&quot;: 245.2, &quot;bridge&quot;: &quot;&quot;, &quot;from&quot;: 769213218, &quot;group&quot;: 0, &quot;highway&quot;: &quot;residential&quot;, &quot;junction&quot;: &quot;&quot;, &quot;key&quot;: 0, &quot;lanes&quot;: &quot;&quot;, &quot;length&quot;: 47.74265345180232, &quot;maxspeed&quot;: &quot;&quot;, &quot;name&quot;: &quot;Corso Quintino Sella&quot;, &quot;oneway&quot;: true, &quot;osmid&quot;: &quot;82256515&quot;, &quot;ref&quot;: &quot;&quot;, &quot;reversed&quot;: &quot;False&quot;, &quot;service&quot;: &quot;&quot;, &quot;to&quot;: 769203670, &quot;tunnel&quot;: &quot;&quot;, &quot;u&quot;: 769213218, &quot;v&quot;: 769203670, &quot;width&quot;: &quot;&quot;}, &quot;type&quot;: &quot;Feature&quot;}, {&quot;bbox&quot;: [7.7202363, 45.06666709999999, 7.720566499999999, 45.0666902], &quot;geometry&quot;: {&quot;coordinates&quot;: [[7.7202363, 45.06666709999999], [7.7204434, 45.066681599999995], [7.720566499999999, 45.0666902]], &quot;type&quot;: &quot;LineString&quot;}, &quot;id&quot;: &quot;15935&quot;, &quot;properties&quot;: {&quot;access&quot;: &quot;yes&quot;, &quot;angle&quot;: 84.3, &quot;bearing&quot;: 84.3, &quot;bridge&quot;: &quot;&quot;, &quot;from&quot;: 957885345, &quot;group&quot;: 0, &quot;highway&quot;: &quot;residential&quot;, &quot;junction&quot;: &quot;&quot;, &quot;key&quot;: 0, &quot;lanes&quot;: &quot;2&quot;, &quot;length&quot;: 36.937570224729654, &quot;maxspeed&quot;: &quot;30&quot;, &quot;name&quot;: &quot;Corso Quintino Sella&quot;, &quot;oneway&quot;: false, &quot;osmid&quot;: &quot;61788725&quot;, &quot;ref&quot;: &quot;&quot;, &quot;reversed&quot;: &quot;False&quot;, &quot;service&quot;: &quot;&quot;, &quot;to&quot;: 432428041, &quot;tunnel&quot;: &quot;&quot;, &quot;u&quot;: 432428041, &quot;v&quot;: 957885345, &quot;width&quot;: &quot;&quot;}, &quot;type&quot;: &quot;Feature&quot;}, {&quot;bbox&quot;: [7.7193336, 45.06652089999999, 7.7202363, 45.06666709999999], &quot;geometry&quot;: {&quot;coordinates&quot;: [[7.7193336, 45.06652089999999], [7.7195229, 45.06655159999999], [7.7202363, 45.06666709999999]], &quot;type&quot;: &quot;LineString&quot;}, &quot;id&quot;: &quot;15940&quot;, &quot;properties&quot;: {&quot;access&quot;: &quot;yes&quot;, &quot;angle&quot;: 77.1, &quot;bearing&quot;: 77.1, &quot;bridge&quot;: &quot;&quot;, &quot;from&quot;: 526079844, &quot;group&quot;: 0, &quot;highway&quot;: &quot;residential&quot;, &quot;junction&quot;: &quot;&quot;, &quot;key&quot;: 0, &quot;lanes&quot;: &quot;2&quot;, &quot;length&quot;: 103.09626091775509, &quot;maxspeed&quot;: &quot;30&quot;, &quot;name&quot;: &quot;Corso Quintino Sella&quot;, &quot;oneway&quot;: false, &quot;osmid&quot;: &quot;61788725&quot;, &quot;ref&quot;: &quot;&quot;, &quot;reversed&quot;: &quot;False&quot;, &quot;service&quot;: &quot;&quot;, &quot;to&quot;: 957885345, &quot;tunnel&quot;: &quot;&quot;, &quot;u&quot;: 957885345, &quot;v&quot;: 526079844, &quot;width&quot;: &quot;&quot;}, &quot;type&quot;: &quot;Feature&quot;}, {&quot;bbox&quot;: [7.706016399999999, 45.061718799999994, 7.7084046, 45.0628468], &quot;geometry&quot;: {&quot;coordinates&quot;: [[7.7084046, 45.0628468], [7.708319699999999, 45.0628062], [7.7061915999999995, 45.061801499999994], [7.706016399999999, 45.061718799999994]], &quot;type&quot;: &quot;LineString&quot;}, &quot;id&quot;: &quot;21733&quot;, &quot;properties&quot;: {&quot;access&quot;: &quot;&quot;, &quot;angle&quot;: 56.19999999999999, &quot;bearing&quot;: 236.2, &quot;bridge&quot;: &quot;&quot;, &quot;from&quot;: 487230666, &quot;group&quot;: 0, &quot;highway&quot;: &quot;tertiary&quot;, &quot;junction&quot;: &quot;&quot;, &quot;key&quot;: 0, &quot;lanes&quot;: &quot;2&quot;, &quot;length&quot;: 319.8149473051329, &quot;maxspeed&quot;: &quot;50&quot;, &quot;name&quot;: &quot;Corso Quintino Sella&quot;, &quot;oneway&quot;: false, &quot;osmid&quot;: &quot;133855813&quot;, &quot;ref&quot;: &quot;&quot;, &quot;reversed&quot;: &quot;False&quot;, &quot;service&quot;: &quot;&quot;, &quot;to&quot;: 487230588, &quot;tunnel&quot;: &quot;&quot;, &quot;u&quot;: 487230588, &quot;v&quot;: 487230666, &quot;width&quot;: &quot;&quot;}, &quot;type&quot;: &quot;Feature&quot;}, {&quot;bbox&quot;: [7.7084046, 45.0628468, 7.710031899999999, 45.0636121], &quot;geometry&quot;: {&quot;coordinates&quot;: [[7.710031899999999, 45.0636121], [7.7099577, 45.0635772], [7.7084046, 45.0628468]], &quot;type&quot;: &quot;LineString&quot;}, &quot;id&quot;: &quot;21743&quot;, &quot;properties&quot;: {&quot;access&quot;: &quot;&quot;, &quot;angle&quot;: 56.30000000000001, &quot;bearing&quot;: 236.3, &quot;bridge&quot;: &quot;&quot;, &quot;from&quot;: 487230673, &quot;group&quot;: 0, &quot;highway&quot;: &quot;tertiary&quot;, &quot;junction&quot;: &quot;&quot;, &quot;key&quot;: 0, &quot;lanes&quot;: &quot;2&quot;, &quot;length&quot;: 217.63073029154737, &quot;maxspeed&quot;: &quot;50&quot;, &quot;name&quot;: &quot;Corso Quintino Sella&quot;, &quot;oneway&quot;: false, &quot;osmid&quot;: &quot;133855813&quot;, &quot;ref&quot;: &quot;&quot;, &quot;reversed&quot;: &quot;False&quot;, &quot;service&quot;: &quot;&quot;, &quot;to&quot;: 487230666, &quot;tunnel&quot;: &quot;&quot;, &quot;u&quot;: 487230666, &quot;v&quot;: 487230673, &quot;width&quot;: &quot;&quot;}, &quot;type&quot;: &quot;Feature&quot;}, {&quot;bbox&quot;: [7.7175951, 45.0662591, 7.7193336, 45.0665295], &quot;geometry&quot;: {&quot;coordinates&quot;: [[7.7193336, 45.06652089999999], [7.7192173, 45.0665295], [7.7178479, 45.066333199999995], [7.7175951, 45.0662591]], &quot;type&quot;: &quot;LineString&quot;}, &quot;id&quot;: &quot;23236&quot;, &quot;properties&quot;: {&quot;access&quot;: &quot;&quot;, &quot;angle&quot;: 78.0, &quot;bearing&quot;: 258.0, &quot;bridge&quot;: &quot;&quot;, &quot;from&quot;: 526079844, &quot;group&quot;: 0, &quot;highway&quot;: &quot;residential&quot;, &quot;junction&quot;: &quot;&quot;, &quot;key&quot;: 0, &quot;lanes&quot;: &quot;&quot;, &quot;length&quot;: 199.03496309806917, &quot;maxspeed&quot;: &quot;&quot;, &quot;name&quot;: &quot;Corso Quintino Sella&quot;, &quot;oneway&quot;: true, &quot;osmid&quot;: &quot;82256515&quot;, &quot;ref&quot;: &quot;&quot;, &quot;reversed&quot;: &quot;False&quot;, &quot;service&quot;: &quot;&quot;, &quot;to&quot;: 769872347, &quot;tunnel&quot;: &quot;&quot;, &quot;u&quot;: 526079844, &quot;v&quot;: 769872347, &quot;width&quot;: &quot;&quot;}, &quot;type&quot;: &quot;Feature&quot;}, {&quot;bbox&quot;: [7.715948199999998, 45.065648499999995, 7.7193336, 45.06652089999999], &quot;geometry&quot;: {&quot;coordinates&quot;: [[7.715948199999998, 45.065648499999995], [7.717881000000001, 45.06625459999999], [7.7192469, 45.0664658], [7.7193336, 45.06652089999999]], &quot;type&quot;: &quot;LineString&quot;}, &quot;id&quot;: &quot;23238&quot;, &quot;properties&quot;: {&quot;access&quot;: &quot;&quot;, &quot;angle&quot;: 70.0, &quot;bearing&quot;: 70.0, &quot;bridge&quot;: &quot;&quot;, &quot;from&quot;: 769872362, &quot;group&quot;: 0, &quot;highway&quot;: &quot;residential&quot;, &quot;junction&quot;: &quot;&quot;, &quot;key&quot;: 0, &quot;lanes&quot;: &quot;&quot;, &quot;length&quot;: 404.04759781845735, &quot;maxspeed&quot;: &quot;&quot;, &quot;name&quot;: &quot;Corso Quintino Sella&quot;, &quot;oneway&quot;: true, &quot;osmid&quot;: &quot;61788723&quot;, &quot;ref&quot;: &quot;&quot;, &quot;reversed&quot;: &quot;False&quot;, &quot;service&quot;: &quot;&quot;, &quot;to&quot;: 526079844, &quot;tunnel&quot;: &quot;&quot;, &quot;u&quot;: 526079844, &quot;v&quot;: 769872362, &quot;width&quot;: &quot;&quot;}, &quot;type&quot;: &quot;Feature&quot;}, {&quot;bbox&quot;: [7.714610999999999, 45.0652624, 7.715948199999998, 45.065648499999995], &quot;geometry&quot;: {&quot;coordinates&quot;: [[7.714610999999999, 45.0652624], [7.7146707, 45.065264000000006], [7.715948199999998, 45.065648499999995]], &quot;type&quot;: &quot;LineString&quot;}, &quot;id&quot;: &quot;27374&quot;, &quot;properties&quot;: {&quot;access&quot;: &quot;&quot;, &quot;angle&quot;: 67.8, &quot;bearing&quot;: 67.8, &quot;bridge&quot;: &quot;&quot;, &quot;from&quot;: 8325552147, &quot;group&quot;: 0, &quot;highway&quot;: &quot;residential&quot;, &quot;junction&quot;: &quot;&quot;, &quot;key&quot;: 0, &quot;lanes&quot;: &quot;&quot;, &quot;length&quot;: 161.23497083597212, &quot;maxspeed&quot;: &quot;&quot;, &quot;name&quot;: &quot;Corso Quintino Sella&quot;, &quot;oneway&quot;: true, &quot;osmid&quot;: &quot;61788723&quot;, &quot;ref&quot;: &quot;&quot;, &quot;reversed&quot;: &quot;False&quot;, &quot;service&quot;: &quot;&quot;, &quot;to&quot;: 769872362, &quot;tunnel&quot;: &quot;&quot;, &quot;u&quot;: 8325552147, &quot;v&quot;: 769872362, &quot;width&quot;: &quot;&quot;}, &quot;type&quot;: &quot;Feature&quot;}, {&quot;bbox&quot;: [7.714600599999998, 45.0653043, 7.715896199999999, 45.065720199999994], &quot;geometry&quot;: {&quot;coordinates&quot;: [[7.715896199999999, 45.065720199999994], [7.714628, 45.0653225], [7.714600599999998, 45.0653043]], &quot;type&quot;: &quot;LineString&quot;}, &quot;id&quot;: &quot;28788&quot;, &quot;properties&quot;: {&quot;access&quot;: &quot;&quot;, &quot;angle&quot;: 65.6, &quot;bearing&quot;: 245.6, &quot;bridge&quot;: &quot;&quot;, &quot;from&quot;: 769203670, &quot;group&quot;: 0, &quot;highway&quot;: &quot;residential&quot;, &quot;junction&quot;: &quot;&quot;, &quot;key&quot;: 0, &quot;lanes&quot;: &quot;&quot;, &quot;length&quot;: 158.65213215333844, &quot;maxspeed&quot;: &quot;&quot;, &quot;name&quot;: &quot;Corso Quintino Sella&quot;, &quot;oneway&quot;: true, &quot;osmid&quot;: &quot;82256515&quot;, &quot;ref&quot;: &quot;&quot;, &quot;reversed&quot;: &quot;False&quot;, &quot;service&quot;: &quot;&quot;, &quot;to&quot;: 8325552146, &quot;tunnel&quot;: &quot;&quot;, &quot;u&quot;: 769203670, &quot;v&quot;: 8325552146, &quot;width&quot;: &quot;&quot;}, &quot;type&quot;: &quot;Feature&quot;}], &quot;type&quot;: &quot;FeatureCollection&quot;});\n",
       "\n",
       "        \n",
       "    \n",
       "    geo_json_fb434d060c16ef852e74f332289e86eb.bindTooltip(\n",
       "    function(layer){\n",
       "    let div = L.DomUtil.create(&#x27;div&#x27;);\n",
       "    \n",
       "    let handleObject = feature=&gt;typeof(feature)==&#x27;object&#x27; ? JSON.stringify(feature) : feature;\n",
       "    let fields = [&quot;u&quot;, &quot;v&quot;, &quot;key&quot;, &quot;osmid&quot;, &quot;oneway&quot;, &quot;name&quot;, &quot;highway&quot;, &quot;reversed&quot;, &quot;length&quot;, &quot;bearing&quot;, &quot;from&quot;, &quot;to&quot;, &quot;lanes&quot;, &quot;access&quot;, &quot;bridge&quot;, &quot;maxspeed&quot;, &quot;junction&quot;, &quot;service&quot;, &quot;tunnel&quot;, &quot;ref&quot;, &quot;width&quot;, &quot;angle&quot;, &quot;group&quot;];\n",
       "    let aliases = [&quot;u&quot;, &quot;v&quot;, &quot;key&quot;, &quot;osmid&quot;, &quot;oneway&quot;, &quot;name&quot;, &quot;highway&quot;, &quot;reversed&quot;, &quot;length&quot;, &quot;bearing&quot;, &quot;from&quot;, &quot;to&quot;, &quot;lanes&quot;, &quot;access&quot;, &quot;bridge&quot;, &quot;maxspeed&quot;, &quot;junction&quot;, &quot;service&quot;, &quot;tunnel&quot;, &quot;ref&quot;, &quot;width&quot;, &quot;angle&quot;, &quot;group&quot;];\n",
       "    let table = &#x27;&lt;table&gt;&#x27; +\n",
       "        String(\n",
       "        fields.map(\n",
       "        (v,i)=&gt;\n",
       "        `&lt;tr&gt;\n",
       "            &lt;th&gt;${aliases[i]}&lt;/th&gt;\n",
       "            \n",
       "            &lt;td&gt;${handleObject(layer.feature.properties[v])}&lt;/td&gt;\n",
       "        &lt;/tr&gt;`).join(&#x27;&#x27;))\n",
       "    +&#x27;&lt;/table&gt;&#x27;;\n",
       "    div.innerHTML=table;\n",
       "    \n",
       "    return div\n",
       "    }\n",
       "    ,{&quot;className&quot;: &quot;foliumtooltip&quot;, &quot;sticky&quot;: true});\n",
       "                     \n",
       "&lt;/script&gt;\" style=\"position:absolute;width:100%;height:100%;left:0;top:0;border:none !important;\" allowfullscreen webkitallowfullscreen mozallowfullscreen></iframe></div></div>"
      ],
      "text/plain": [
       "<folium.folium.Map at 0x1a92610bcd0>"
      ]
     },
     "execution_count": 17,
     "metadata": {},
     "output_type": "execute_result"
    }
   ],
   "source": [
    "# if all is -1, don't touch the element\n",
    "if (res['group']== -1).all():\n",
    "    data = res\n",
    "    _  = res['geometry'].apply(lambda x:update_df_with_center_line(x))\n",
    "# check parallelism for one street. We create buffer around each polyline and also translate the buffer. If 10% of at least  one of  the translated polylines is overlay with the buffer it is multi lanes  scenarios\n",
    "angels_groups = res.groupby('group')\n",
    "data  = angels_groups.get_group(0)\n",
    "data.explore()"
   ]
  },
  {
   "cell_type": "code",
   "execution_count": 16,
   "metadata": {
    "collapsed": false,
    "pycharm": {
     "name": "#%%\n"
    }
   },
   "outputs": [
    {
     "data": {
      "text/plain": [
       "group\n",
       " 0    20\n",
       " 1     7\n",
       "-1     2\n",
       " 2     2\n",
       "dtype: int64"
      ]
     },
     "execution_count": 16,
     "metadata": {},
     "output_type": "execute_result"
    }
   ],
   "source": [
    "# test gruups\n",
    "res.value_counts('group')"
   ]
  },
  {
   "cell_type": "code",
   "execution_count": 180,
   "metadata": {
    "collapsed": false,
    "pycharm": {
     "name": "#%%\n"
    }
   },
   "outputs": [
    {
     "data": {
      "text/html": [
       "<div>\n",
       "<style scoped>\n",
       "    .dataframe tbody tr th:only-of-type {\n",
       "        vertical-align: middle;\n",
       "    }\n",
       "\n",
       "    .dataframe tbody tr th {\n",
       "        vertical-align: top;\n",
       "    }\n",
       "\n",
       "    .dataframe thead th {\n",
       "        text-align: right;\n",
       "    }\n",
       "</style>\n",
       "<table border=\"1\" class=\"dataframe\">\n",
       "  <thead>\n",
       "    <tr style=\"text-align: right;\">\n",
       "      <th></th>\n",
       "      <th>u</th>\n",
       "      <th>v</th>\n",
       "      <th>key</th>\n",
       "      <th>osmid</th>\n",
       "      <th>oneway</th>\n",
       "      <th>name</th>\n",
       "      <th>highway</th>\n",
       "      <th>reversed</th>\n",
       "      <th>length</th>\n",
       "      <th>bearing</th>\n",
       "      <th>...</th>\n",
       "      <th>bridge</th>\n",
       "      <th>maxspeed</th>\n",
       "      <th>junction</th>\n",
       "      <th>service</th>\n",
       "      <th>tunnel</th>\n",
       "      <th>ref</th>\n",
       "      <th>width</th>\n",
       "      <th>geometry</th>\n",
       "      <th>angle</th>\n",
       "      <th>group</th>\n",
       "    </tr>\n",
       "  </thead>\n",
       "  <tbody>\n",
       "    <tr>\n",
       "      <th>4291</th>\n",
       "      <td>248160675</td>\n",
       "      <td>1369857464</td>\n",
       "      <td>0</td>\n",
       "      <td>[106695424, 106759979]</td>\n",
       "      <td>True</td>\n",
       "      <td>Piazza Giuseppe Luigi Lagrange</td>\n",
       "      <td>service</td>\n",
       "      <td>False</td>\n",
       "      <td>19.883200</td>\n",
       "      <td>297.0</td>\n",
       "      <td>...</td>\n",
       "      <td></td>\n",
       "      <td></td>\n",
       "      <td></td>\n",
       "      <td></td>\n",
       "      <td>building_passage</td>\n",
       "      <td></td>\n",
       "      <td></td>\n",
       "      <td>LINESTRING (854975.401 5631547.149, 854971.248...</td>\n",
       "      <td>117.0</td>\n",
       "      <td>0</td>\n",
       "    </tr>\n",
       "    <tr>\n",
       "      <th>4303</th>\n",
       "      <td>2018127896</td>\n",
       "      <td>2028069892</td>\n",
       "      <td>0</td>\n",
       "      <td>[572748505, 649703378]</td>\n",
       "      <td>True</td>\n",
       "      <td>Piazza Giuseppe Luigi Lagrange</td>\n",
       "      <td>service</td>\n",
       "      <td>False</td>\n",
       "      <td>36.527693</td>\n",
       "      <td>120.8</td>\n",
       "      <td>...</td>\n",
       "      <td></td>\n",
       "      <td></td>\n",
       "      <td></td>\n",
       "      <td>parking_aisle</td>\n",
       "      <td></td>\n",
       "      <td></td>\n",
       "      <td></td>\n",
       "      <td>LINESTRING (854982.280 5631525.951, 854981.212...</td>\n",
       "      <td>120.8</td>\n",
       "      <td>0</td>\n",
       "    </tr>\n",
       "    <tr>\n",
       "      <th>4305</th>\n",
       "      <td>248160735</td>\n",
       "      <td>1369857462</td>\n",
       "      <td>0</td>\n",
       "      <td>[106760014, 106759983]</td>\n",
       "      <td>True</td>\n",
       "      <td>Piazza Giuseppe Luigi Lagrange</td>\n",
       "      <td>service</td>\n",
       "      <td>False</td>\n",
       "      <td>19.984440</td>\n",
       "      <td>117.5</td>\n",
       "      <td>...</td>\n",
       "      <td></td>\n",
       "      <td></td>\n",
       "      <td></td>\n",
       "      <td></td>\n",
       "      <td>building_passage</td>\n",
       "      <td></td>\n",
       "      <td></td>\n",
       "      <td>LINESTRING (854950.398 5631542.310, 854963.857...</td>\n",
       "      <td>117.5</td>\n",
       "      <td>0</td>\n",
       "    </tr>\n",
       "    <tr>\n",
       "      <th>4310</th>\n",
       "      <td>1369857462</td>\n",
       "      <td>2028069892</td>\n",
       "      <td>0</td>\n",
       "      <td>[106760014, 23016551]</td>\n",
       "      <td>True</td>\n",
       "      <td>Piazza Giuseppe Luigi Lagrange</td>\n",
       "      <td>service</td>\n",
       "      <td>False</td>\n",
       "      <td>15.851596</td>\n",
       "      <td>116.7</td>\n",
       "      <td>...</td>\n",
       "      <td></td>\n",
       "      <td></td>\n",
       "      <td></td>\n",
       "      <td></td>\n",
       "      <td>building_passage</td>\n",
       "      <td></td>\n",
       "      <td></td>\n",
       "      <td>LINESTRING (854968.120 5631533.074, 854975.245...</td>\n",
       "      <td>116.7</td>\n",
       "      <td>0</td>\n",
       "    </tr>\n",
       "    <tr>\n",
       "      <th>4326</th>\n",
       "      <td>248160760</td>\n",
       "      <td>1369857464</td>\n",
       "      <td>0</td>\n",
       "      <td>[106759979, 192249357]</td>\n",
       "      <td>True</td>\n",
       "      <td>Piazza Giuseppe Luigi Lagrange</td>\n",
       "      <td>service</td>\n",
       "      <td>False</td>\n",
       "      <td>15.986236</td>\n",
       "      <td>297.2</td>\n",
       "      <td>...</td>\n",
       "      <td></td>\n",
       "      <td></td>\n",
       "      <td></td>\n",
       "      <td></td>\n",
       "      <td>building_passage</td>\n",
       "      <td></td>\n",
       "      <td></td>\n",
       "      <td>LINESTRING (854989.616 5631539.836, 854982.458...</td>\n",
       "      <td>117.2</td>\n",
       "      <td>0</td>\n",
       "    </tr>\n",
       "  </tbody>\n",
       "</table>\n",
       "<p>5 rows × 24 columns</p>\n",
       "</div>"
      ],
      "text/plain": [
       "               u           v  key                   osmid  oneway  \\\n",
       "4291   248160675  1369857464    0  [106695424, 106759979]    True   \n",
       "4303  2018127896  2028069892    0  [572748505, 649703378]    True   \n",
       "4305   248160735  1369857462    0  [106760014, 106759983]    True   \n",
       "4310  1369857462  2028069892    0   [106760014, 23016551]    True   \n",
       "4326   248160760  1369857464    0  [106759979, 192249357]    True   \n",
       "\n",
       "                                name  highway reversed     length  bearing  \\\n",
       "4291  Piazza Giuseppe Luigi Lagrange  service    False  19.883200    297.0   \n",
       "4303  Piazza Giuseppe Luigi Lagrange  service    False  36.527693    120.8   \n",
       "4305  Piazza Giuseppe Luigi Lagrange  service    False  19.984440    117.5   \n",
       "4310  Piazza Giuseppe Luigi Lagrange  service    False  15.851596    116.7   \n",
       "4326  Piazza Giuseppe Luigi Lagrange  service    False  15.986236    297.2   \n",
       "\n",
       "      ...  bridge  maxspeed junction        service            tunnel ref  \\\n",
       "4291  ...                                            building_passage       \n",
       "4303  ...                             parking_aisle                         \n",
       "4305  ...                                            building_passage       \n",
       "4310  ...                                            building_passage       \n",
       "4326  ...                                            building_passage       \n",
       "\n",
       "     width                                           geometry  angle group  \n",
       "4291        LINESTRING (854975.401 5631547.149, 854971.248...  117.0     0  \n",
       "4303        LINESTRING (854982.280 5631525.951, 854981.212...  120.8     0  \n",
       "4305        LINESTRING (854950.398 5631542.310, 854963.857...  117.5     0  \n",
       "4310        LINESTRING (854968.120 5631533.074, 854975.245...  116.7     0  \n",
       "4326        LINESTRING (854989.616 5631539.836, 854982.458...  117.2     0  \n",
       "\n",
       "[5 rows x 24 columns]"
      ]
     },
     "execution_count": 180,
     "metadata": {},
     "output_type": "execute_result"
    }
   ],
   "source": [
    "data"
   ]
  },
  {
   "cell_type": "code",
   "execution_count": 32,
   "metadata": {
    "collapsed": false,
    "pycharm": {
     "name": "#%%\n"
    }
   },
   "outputs": [
    {
     "name": "stdout",
     "output_type": "stream",
     "text": [
      "1\n"
     ]
    }
   ],
   "source": [
    "# See if there are parallel lines\n",
    "to_translate = data.copy()\n",
    "my_buffer = to_translate['geometry'].buffer(cap_style=2, distance=30, join_style=3)\n",
    "to_translate['geometry_right'] = to_translate['geometry'].apply(lambda x: x.parallel_offset(35, 'right'))\n",
    "to_translate['geometry_left'] = to_translate['geometry'].apply(lambda x: x.parallel_offset(35, 'left')) # we need to offset by both sides since the parallel lines could be in opposite directions\n",
    "def length_of_parallel(my_s_join: GeoDataFrame, the_buffer: GeoSeries, geo_field: str):\n",
    "    my_s_join['geometry'] = my_s_join[geo_field]\n",
    "    new_data_0 = my_s_join.sjoin(GeoDataFrame(geometry=the_buffer, crs=project_crs), how='inner').reset_index()\n",
    "    if not len(new_data_0):\n",
    "        return False\n",
    "    new_data_1= new_data_0[new_data_0['index'] != new_data_0['index_right']] # Remove overlay of polylines with its buffer\n",
    "    for translated_line in new_data_1.iterrows():\n",
    "        translated_line = translated_line[1]\n",
    "        geo_tr_line =GeoDataFrame(data= pd.DataFrame([translated_line]),crs=project_crs)\n",
    "        overlay = gpd.overlay(geo_tr_line, GeoDataFrame(geometry=the_buffer.loc[geo_tr_line['index_right']], crs=project_crs), how='intersection')\n",
    "        if (overlay.length/translated_line.length).iloc[0]*100>10:\n",
    "            return True\n",
    "    return False\n",
    "\n",
    "if length_of_parallel(to_translate, my_buffer, 'geometry_right'):\n",
    "    print(1)\n",
    "\n",
    "else:\n",
    "    if length_of_parallel(to_translate, my_buffer, 'geometry_left'):\n",
    "        print(1)\n",
    "    else:\n",
    "        print(-1)\n"
   ]
  },
  {
   "cell_type": "code",
   "execution_count": 31,
   "metadata": {
    "collapsed": false,
    "pycharm": {
     "name": "#%%\n"
    }
   },
   "outputs": [],
   "source": [
    "\n",
    "to_translate['geometry_left'] = to_translate['geometry'].apply(lambda x: x.parallel_offset(35, 'left'))"
   ]
  },
  {
   "cell_type": "code",
   "execution_count": null,
   "metadata": {
    "collapsed": false,
    "pycharm": {
     "name": "#%%\n"
    }
   },
   "outputs": [],
   "source": [
    "my_s_join= to_translate\n",
    "the_buffer=\n",
    "geo_field="
   ]
  },
  {
   "cell_type": "code",
   "execution_count": 10,
   "metadata": {
    "collapsed": false,
    "pycharm": {
     "name": "#%%\n"
    }
   },
   "outputs": [],
   "source": [
    "# Functions and classes to be utilized - Module 3\n",
    "def update_list(line_local):\n",
    "    \"\"\"\n",
    "    add the first start/end point into the list\n",
    "    :param line_local:\n",
    "    :return:\n",
    "    \"\"\"\n",
    "    list_pnts_of_line_group.extend([Point(line_local.coords[0]), Point(line_local.coords[-1])])\n",
    "def add_more_pnts_to_new_lines(pnt_f_loc: Point, pnt_l_loc: Point, line_pnts: list, lngth_chck: float, test_poly:GeoDataFrame) -> list:\n",
    "    \"\"\"\n",
    "    This method checks if more points should be added to the new lines by checking along the new line if the distance to the old network roads are more than 10 meters\n",
    "    :param test_poly: From these polylines find the closet one in each interation\n",
    "    :param lngth_chck: Used latter to find how many checks should be done\n",
    "    :return:\n",
    "    \"\"\"\n",
    "    # Calculate distance and azimuth between the first and last point\n",
    "    dist = pnt_f_loc.distance(pnt_l_loc)\n",
    "    x_0 = pnt_f_loc.coords[0][0]\n",
    "    y_0 = pnt_f_loc.coords[0][1]\n",
    "    bearing = math.atan2(pnt_l_loc.coords[0][0] - x_0, pnt_l_loc.coords[0][1] - y_0)\n",
    "    bearing = bearing + 2 * math.pi if bearing < 0 else bearing\n",
    "    # Calculate the number of  checks going to carry out\n",
    "    loops = int(dist / lngth_chck)\n",
    "    # Calculate  the first point over the line\n",
    "    for dis_on_line in range(1, loops):\n",
    "        x_new = x_0 + lngth_chck * dis_on_line * math.sin(bearing)\n",
    "        y_new = y_0 + lngth_chck * dis_on_line * math.cos(bearing)\n",
    "        # S_joins to all the network lines (same name and group)\n",
    "        # if the distance is less than 10 meters continue, else: find the projection point and add it to the correct location and run the function agein\n",
    "        one_pnt_df = GeoDataFrame(geometry=[Point(x_new, y_new)], crs=project_crs)\n",
    "        try:\n",
    "            s_join_loc = one_pnt_df.sjoin_nearest(test_poly, distance_col='dis').iloc[0]\n",
    "        except RecursionError:\n",
    "            print('error')\n",
    "            return line_pnts\n",
    "\n",
    "        if s_join_loc['dis'] > 10:\n",
    "            line = data.loc[s_join_loc['index_right']]['geometry']\n",
    "            pnt_med= line.interpolate(line.project( s_join_loc['geometry']))\n",
    "            if pnt_med.distance(pnt_f_loc)<10: # Otherwise the code may stack in endless loops\n",
    "                continue\n",
    "            line_pnts.append(pnt_med)\n",
    "            return add_more_pnts_to_new_lines(pnt_med, pnt_l_loc, line_pnts,lngth_chck,test_poly)\n",
    "    return line_pnts\n",
    "def update_df_with_center_line(new_line,is_simplified=0,group_name= -1):\n",
    "    \"\"\"\n",
    "    update our dictionary with new lines\n",
    "    :param is_simplified:\n",
    "    :param new_line:\n",
    "    :param group_name: According to the DBSCAN algorithm, if no =-1\n",
    "    :return:\n",
    "    \"\"\"\n",
    "    dic_final['name'].append(name)\n",
    "    # dic_final['geometry'].append(LineString(coordinates=(pnt_list[max_dis[0]], pnt_list[max_dis[1]])))\n",
    "    dic_final['geometry'].append(new_line)\n",
    "    dic_final['highway'].append(data.iloc[0]['highway'])\n",
    "    dic_final['bearing'].append(data['angle'].mean())\n",
    "    dic_final['group'].append(group_name)\n",
    "    dic_final['is_simplified'].append(is_simplified)"
   ]
  },
  {
   "cell_type": "code",
   "execution_count": 11,
   "metadata": {
    "collapsed": false,
    "pycharm": {
     "name": "#%%\n"
    }
   },
   "outputs": [],
   "source": [
    "# Create buffer around the polyline and unify them #\n",
    "min_num_of_polylines = len(data)/10\n",
    "# Use a single boolean condition for filtering\n",
    "condition = (data['highway'].isin(['service','unclassified'])) & (data.groupby('highway')['highway'].transform('count') <= min_num_of_polylines)\n",
    "data = data[~condition]\n",
    "\n",
    "# unify lines to one polygon\n",
    "buffers = data.buffer(cap_style=3, distance=30, join_style=3)\n",
    "one_buffer = buffers.unary_union\n"
   ]
  },
  {
   "cell_type": "code",
   "execution_count": 12,
   "metadata": {
    "collapsed": false,
    "pycharm": {
     "name": "#%%\n"
    }
   },
   "outputs": [
    {
     "data": {
      "image/svg+xml": [
       "<svg xmlns=\"http://www.w3.org/2000/svg\" xmlns:xlink=\"http://www.w3.org/1999/xlink\" width=\"300\" height=\"300\" viewBox=\"848447.7084022404 5630972.016119648 4244.634610821842 2496.1245633689687\" preserveAspectRatio=\"xMinYMin meet\"><g transform=\"matrix(1,0,0,-1,0,11264440.156802665)\"><path fill-rule=\"evenodd\" fill=\"#66cc99\" stroke=\"#555555\" stroke-width=\"28.297564072145615\" opacity=\"0.6\" d=\"M 849550.6059499672,5632738.606006362 L 849550.9482144478,5632739.241488949 L 849455.8472507606,5632793.489843423 L 849446.5663933096,5632798.297012218 L 849431.4885745924,5632806.093211326 L 849431.1754626615,5632805.5190337915 L 849405.1273861389,5632819.7236361075 L 849378.772599754,5632833.350750609 L 849379.0729821257,5632833.931688947 L 849343.1759989859,5632853.507121681 L 849343.1368203909,5632853.434648016 L 849318.1659182545,5632866.933687368 L 849318.1589819437,5632866.920913258 L 849315.6262057651,5632868.296204541 L 849290.4377075157,5632881.695510197 L 849290.552388929,5632881.911092456 L 849265.4318792374,5632895.548772802 L 849265.4330652077,5632895.55095735 L 849206.8130832807,5632927.381464455 L 849206.5644440899,5632926.941125101 L 849180.6689592157,5632941.563103234 L 849154.5225186754,5632955.731449203 L 849154.7660109336,5632956.180792822 L 848947.5249149735,5633073.177587752 L 848947.5235267763,5633073.175129323 L 848921.4017287074,5633087.925285608 L 848909.3419770882,5633094.733550545 L 848815.1396319084,5633142.250514557 L 848815.1332688769,5633142.237914602 L 848788.3605733366,5633155.758241567 L 848761.5815172009,5633169.265967349 L 848761.587874302,5633169.278570296 L 848746.2383680847,5633177.03013728 L 848745.8536900845,5633176.317549636 L 848724.2439530134,5633187.983188952 L 848724.1635911088,5633187.836297177 L 848716.043022577,5633192.278917272 L 848693.4032181855,5633203.712116343 L 848693.7682578483,5633204.434960973 L 848671.5932723786,5633216.405739771 L 848671.6728108983,5633216.5530790165 L 848668.3882262545,5633218.350017455 L 848662.9556412925,5633212.972990156 L 848644.9327624567,5633231.182088805 L 848634.6005093246,5633236.834682612 L 848606.1165018462,5633236.265168603 L 848604.9170915302,5633296.253179195 L 848648.3139635181,5633297.120863511 L 848657.8671647842,5633295.402265626 L 848667.5514644925,5633310.931993727 L 848719.7293133225,5633278.394017342 L 848726.4527106119,5633274.823759862 L 848739.6041086849,5633300.962362487 L 848749.1351650477,5633296.166898931 L 848749.3498797911,5633296.577596249 L 848775.7288440401,5633282.786533359 L 848776.7618271038,5633282.266797409 L 848777.0947470011,5633282.868477501 L 848792.4244087827,5633274.386313152 L 848802.3193005386,5633269.407789156 L 848802.1238964378,5633269.019420549 L 848803.0316011001,5633268.517172017 L 848829.3030411463,5633254.787940078 L 848828.9758209202,5633254.161790955 L 848970.3455709091,5633175.939487646 L 849174.776286963,5633062.830642984 L 849174.8222804647,5633062.913155353 L 849200.9849837846,5633048.329713403 L 849218.096911299,5633038.861907448 L 849228.4224289884,5633033.310742123 L 849237.0716080627,5633028.67919798 L 849334.1927375698,5632978.539093706 L 849337.2590149123,5632982.503386494 L 849358.8261854453,5632965.821741144 L 849383.0537491321,5632953.313931816 L 849381.8113993288,5632950.907506503 L 849420.3514149172,5632929.98809974 L 849420.8064707981,5632930.768564084 L 849446.3267465589,5632915.888766356 L 849472.289939741,5632901.7960216915 L 849471.8535281201,5632900.992016546 L 849500.5109719286,5632884.256778168 L 849774.5695021157,5632735.91260145 L 849788.3527537974,5632728.459080855 L 849790.8219466214,5632727.151567278 L 849791.2110411723,5632727.841117447 L 849798.6791896565,5632723.627042803 L 849798.6846907764,5632723.636783353 L 849817.0981561613,5632713.23750581 L 849843.1469040529,5632699.443892283 L 849842.7763871569,5632698.744184321 L 849850.9243432076,5632694.146512614 L 849850.9227539533,5632694.14369615 L 850105.794840416,5632550.315650025 L 850127.0291662461,5632543.169149835 L 850134.7886449697,5632551.137373535 L 850151.3908108126,5632534.970137589 L 850173.3538161665,5632527.578397291 L 850169.8061440868,5632517.037234081 L 850170.1118961172,5632516.739491891 L 850175.2339251759,5632514.122602316 L 850175.7345551297,5632515.023343092 L 850201.4983328951,5632500.703886026 L 850227.7467036913,5632487.293363141 L 850227.2778514561,5632486.375680257 L 850285.1742074118,5632454.196999361 L 850285.3732585988,5632454.545896768 L 850311.1811895288,5632439.822086323 L 850334.7555910322,5632426.964776914 L 850334.9173640994,5632427.256096886 L 850352.1534781863,5632417.684700078 L 850368.2975453743,5632409.315456341 L 850368.1152567281,5632408.963825986 L 850387.1883718491,5632398.752281537 L 850386.9971507334,5632398.395118879 L 850531.121646726,5632318.855505975 L 850625.8744535721,5632266.6189395785 L 850699.8119846876,5632225.994704337 L 850699.9837332861,5632226.301524684 L 850725.954807215,5632211.763715855 L 850752.1521898733,5632197.637792395 L 850752.1335795745,5632197.6032784665 L 850769.3902635238,5632188.556966308 L 850815.9084470229,5632164.354733471 L 850816.3714649875,5632165.179102057 L 850842.1092885592,5632150.723099136 L 850868.2967008555,5632137.0984516945 L 850867.8603107579,5632136.259683025 L 850947.2780551916,5632091.653613585 L 851010.3216661932,5632057.514481439 L 851010.605078464,5632058.014503482 L 851017.9250738657,5632053.86553335 L 851018.1555083543,5632054.257980082 L 851039.7432885672,5632041.582198402 L 851062.5770998262,5632029.217321334 L 851062.303412014,5632028.7119110655 L 851069.727506384,5632024.503937685 L 851069.5030973617,5632024.10801461 L 851074.7694424521,5632021.015754083 L 851085.658452299,5632015.024206824 L 851100.6367076902,5632006.79364088 L 851258.2331258149,5631920.247276836 L 851258.2338151453,5631920.248531929 L 851284.5282382229,5631905.806933597 L 851310.8233679588,5631891.366580842 L 851310.8226786876,5631891.365325715 L 851339.8052989355,5631875.447297812 L 851339.8774225181,5631875.577085885 L 851366.0354475726,5631861.041000716 L 851392.2652732457,5631846.634881002 L 851392.1937945116,5631846.504736676 L 851429.7000825405,5631825.662391124 L 851445.5430224077,5631818.015169543 L 851472.5603020171,5631804.974210894 L 851462.9772502226,5631785.120763245 L 851477.8250053988,5631776.883158502 L 851477.9697136979,5631776.802350068 L 851489.9733297592,5631770.055689728 L 851495.6283475382,5631767.172812273 L 851498.0928473868,5631765.9911829615 L 851508.5790796145,5631760.9581776075 L 851509.7597677296,5631760.35908397 L 851541.1362251188,5631743.557635512 L 851554.9361788548,5631765.201960196 L 851595.0200213862,5631739.645368314 L 851597.9877742333,5631737.933967635 L 851715.7261213822,5631674.980290916 L 851715.9425691745,5631675.345446649 L 851724.7197429657,5631670.14273527 L 851724.8787078446,5631670.053159035 L 851741.7521118139,5631660.046717882 L 851760.8089087096,5631648.75071117 L 851832.7464000452,5631608.901601407 L 851845.462198647,5631601.862186842 L 851864.9391836694,5631591.151424796 L 851891.2266866302,5631576.698624911 L 851891.2255383078,5631576.696536282 L 851925.8585187256,5631557.66387144 L 851925.9502784593,5631557.828379454 L 851952.0676735193,5631543.260546835 L 851978.2763083777,5631528.857507962 L 851978.1855866454,5631528.692425247 L 852017.0692196802,5631507.0038052155 L 852127.3550703364,5631446.860147541 L 852127.4003827956,5631446.942619857 L 852153.6519262973,5631432.51933144 L 852179.9486520978,5631418.178586322 L 852179.903598958,5631418.095972061 L 852199.440292296,5631407.361998925 L 852215.9318812218,5631398.309649969 L 852215.9337235658,5631398.313009521 L 852226.2862130881,5631392.635810172 L 852226.4670927777,5631392.956206009 L 852252.2398003971,5631378.406206223 L 852268.5395977339,5631369.472578477 L 852268.5361875269,5631369.466356404 L 852278.5722949132,5631363.962657782 L 852278.5481929838,5631363.918707419 L 852300.8481961268,5631351.675001123 L 852305.962687461,5631361.171120663 L 852330.8050500504,5631376.904416924 L 852364.1786333901,5631378.6537904935 L 852379.692669983,5631375.257572309 L 852449.9464006227,5631338.3789581545 L 852476.5090526138,5631324.435302995 L 852448.6217422949,5631271.309999013 L 852424.5104292162,5631283.966861555 L 852435.6440051923,5631277.897266906 L 852461.985277791,5631263.570852832 L 852461.9710870347,5631263.544760986 L 852467.3145601877,5631260.631706265 L 852467.6791448257,5631261.279790298 L 852493.3954388197,5631246.812892092 L 852519.5738757778,5631233.200090834 L 852519.1346063201,5631232.355342749 L 852535.1343237725,5631223.374628309 L 852529.0698725228,5631212.570420341 L 852530.1420429918,5631211.966498398 L 852524.6186578892,5631202.160578168 L 852525.1301613679,5631201.885179301 L 852520.2450534684,5631192.811976814 L 852521.8723844656,5631191.853477773 L 852516.1314888855,5631182.106637211 L 852516.4551085731,5631181.930585875 L 852487.7828035139,5631129.224808938 L 852442.2520172464,5631153.993869737 L 852429.8097775816,5631160.691592139 L 852424.9894718402,5631163.286067121 L 852420.3354784475,5631165.786353032 L 852284.6418382246,5631238.810751575 L 852284.4840855494,5631238.5249946145 L 852262.5460843232,5631250.635910047 L 852262.1419481419,5631249.94830519 L 852242.8174877897,5631261.306156322 L 852232.0880770627,5631267.076853497 L 852232.2429523497,5631267.364811869 L 852210.7169495838,5631279.248282766 L 852211.1024156236,5631279.946525149 L 852208.8202044991,5631281.287882876 L 852205.6408424579,5631283.147745706 L 852205.5780930916,5631283.184555014 L 852187.6570183863,5631293.726435518 L 852182.9300284892,5631296.504699261 L 852182.9310493848,5631296.506436232 L 852105.4257430438,5631342.098103656 L 851912.7755428825,5631447.061607333 L 851823.3545700328,5631495.775880433 L 851812.5912955948,5631501.638042123 L 851779.0853868779,5631519.891556589 L 851759.977923407,5631529.981433137 L 851671.5146277468,5631576.688544747 L 851567.3622748407,5631631.552354122 L 851567.3524910194,5631631.533812159 L 851540.828915034,5631645.529198176 L 851514.2955608288,5631659.50603928 L 851514.3053316857,5631659.524588079 L 851500.4275131187,5631666.8473347565 L 851512.9543469907,5631690.58776104 L 851495.4484839679,5631699.961791117 L 851495.4306410627,5631699.926790688 L 851487.8436467599,5631703.794572485 L 851487.2586702736,5631702.753785963 L 851464.3518436761,5631715.628621159 L 851442.3072205732,5631726.198138068 L 851442.6194942023,5631726.849440726 L 851435.4526716934,5631730.503022702 L 851435.9584907239,5631731.495231235 L 851434.9398374062,5631732.060384911 L 851424.1073633358,5631710.563945273 L 851406.9746563439,5631719.197449583 L 851406.508384165,5631718.343424384 L 851380.611276851,5631732.482469315 L 851354.2622210799,5631745.760271045 L 851354.7015357245,5631746.632066416 L 851280.8483225843,5631786.9659382105 L 851280.8314526054,5631786.935134318 L 851254.5344001922,5631801.336909046 L 851228.220496289,5631815.7078698445 L 851228.2373301478,5631815.73869343 L 851197.0587005299,5631832.813899922 L 851196.932152242,5631832.587515907 L 851170.8594807171,5631847.162095906 L 851144.6612484616,5631861.509751046 L 851144.7858264043,5631861.737225281 L 851105.2308652698,5631883.8483827375 L 851073.8983427131,5631900.71533629 L 851073.8895427355,5631900.699013396 L 851047.4908215647,5631914.931058367 L 851037.9063477188,5631920.090581507 L 851027.1706301495,5631925.770768783 L 851026.6740954517,5631924.904540314 L 851001.0872914089,5631939.5712667825 L 850975.0188872594,5631953.363863002 L 850975.4819750638,5631954.2391122915 L 850892.3288926207,5632001.867330508 L 850779.4683235937,5632064.241148376 L 850745.8920232531,5632081.895551701 L 850745.8899953618,5632081.891696284 L 850734.6917529693,5632087.7818029225 L 850734.1935315008,5632086.908219134 L 850708.6228449475,5632101.491668567 L 850692.7894904999,5632109.816839077 L 850692.791517831,5632109.820694787 L 850682.4794775666,5632115.244672471 L 850682.9467519345,5632116.133052249 L 850624.2452324287,5632149.601879017 L 850542.2735762824,5632194.69440852 L 850542.2371782525,5632194.628633514 L 850516.0210901534,5632209.135875985 L 850489.7686866414,5632223.577298002 L 850489.8049195306,5632223.643164122 L 850342.3048953256,5632305.265510198 L 850342.1901074046,5632305.059872834 L 850324.8088387811,5632314.7621937245 L 850324.5895563294,5632314.382597937 L 850311.4932243682,5632321.9480027165 L 850311.3330473611,5632321.677349054 L 850300.3974919368,5632328.14917922 L 850289.9375702321,5632333.828868853 L 850290.1036899674,5632334.134800961 L 850272.8012313112,5632343.793129689 L 850273.014902566,5632344.175912068 L 850259.8113014398,5632351.803283409 L 850259.8123517677,5632351.805101613 L 850256.7093398967,5632353.517094835 L 850230.4369723492,5632367.878695388 L 850230.4576774407,5632367.916572209 L 850140.60860389,5632417.159738458 L 850140.5122273449,5632416.983829467 L 850114.3203989278,5632431.333737969 L 850088.0006977314,5632445.447740985 L 850088.1275132416,5632445.684225725 L 850017.5165525138,5632484.370368959 L 850017.5145270003,5632484.366672111 L 849991.2071651032,5632498.780546471 L 849964.8971935041,5632513.189659503 L 849964.8998016077,5632513.194421707 L 849930.0524138978,5632532.287399186 L 849929.703593863,5632531.684776678 L 849904.0444086556,5632546.537255229 L 849878.0435731591,5632560.78318295 L 849878.2903249087,5632561.233539836 L 849782.7285459012,5632613.570864053 L 849774.449405925,5632618.09738618 L 849772.1439286391,5632619.309137434 L 849771.8383679983,5632618.756638257 L 849755.0443766824,5632628.044584667 L 849755.0404967524,5632628.037573598 L 849745.6507821984,5632633.233847777 L 849719.5919757726,5632646.930270442 L 849719.8629810433,5632647.445884924 L 849602.7959033976,5632710.497026414 L 849602.4382669835,5632709.870066058 L 849576.6970577757,5632724.553600142 L 849550.6059499672,5632738.606006362 z\" /></g></svg>"
      ],
      "text/plain": [
       "<shapely.geometry.polygon.Polygon at 0x1a92efaebc0>"
      ]
     },
     "execution_count": 12,
     "metadata": {},
     "output_type": "execute_result"
    }
   ],
   "source": [
    "one_buffer"
   ]
  },
  {
   "cell_type": "code",
   "execution_count": 207,
   "metadata": {
    "collapsed": false,
    "pycharm": {
     "name": "#%%\n"
    }
   },
   "outputs": [
    {
     "name": "stdout",
     "output_type": "stream",
     "text": [
      "Get the start/end points of these polylines:0.023071765899658203 \n",
      "Find all the unidirectional combinations between each two pair of points:0.006531238555908203 \n",
      "Save it into Geodata frame and calculate distance and angle (0 and 180):1.093278408050537 \n",
      "Calculate distance and angle (0 and 180):1.4851412773132324 \n",
      "Calculate the best two points by looking on their distance and angle:0.006983518600463867 \n",
      "tot:2.6160030364990234 \n"
     ]
    }
   ],
   "source": [
    "time_00 =time.time()\n",
    "time_0 = time.time()\n",
    "#  Create centerline\n",
    "# Get all the polylines intersected with the new polygon\n",
    "one_poly= one_buffer\n",
    "lines_in_buffer = data.sjoin(GeoDataFrame(geometry=[one_poly],crs=project_crs)).drop(columns='index_right')\n",
    "\n",
    "list_pnts_of_line_group = []\n",
    "\n",
    "# Get the start/end points of these polylines\n",
    "lines_in_buffer['geometry'].apply(update_list)\n",
    "print(f'Get the start/end points of these polylines:{time.time() -time_0} ')\n",
    "time_0 = time.time()\n",
    "\n",
    "# Find all the unidirectional combinations between each two pair of points\n",
    "point_combinations = list(combinations(list_pnts_of_line_group, 2))\n",
    "print(f'Find all the unidirectional combinations between each two pair of points:{time.time() -time_0} ')\n",
    "time_0 = time.time()\n",
    "\n",
    "# Save it into DataFrame frame and calculate distance\n",
    "df_test= DataFrame()\n",
    "df_test['point_1'] = [pair[0] for pair in point_combinations]\n",
    "df_test['point_2'] = [pair[1] for pair in point_combinations]\n",
    "df_test['dist'] = df_test.apply(lambda x:x['point_1'].distance(x['point_2']),axis=1)\n",
    "print(f'Save it into Geodata frame and calculate distance and angle (0 and 180):{time.time() -time_0} ')\n",
    "time_0 = time.time()\n",
    "\n",
    "\n",
    "# Calculate  angle (0 and 180)\n",
    "# Calculate angle using vectorized operations\n",
    "# Vectorized angle calculation using NumPy\n",
    "dx = df_test['point_2'].apply(lambda p: p.x)  - df_test['point_1'].apply(lambda p: p.x)\n",
    "dy = df_test['point_2'].apply(lambda p: p.y)  - df_test['point_1'].apply(lambda p: p.y)\n",
    "df_test['angle'] = np.degrees(np.arctan2(dy, dx))\n",
    "df_test['angle']  = np.where(df_test['angle'] > 0, df_test['angle'], df_test['angle'] + 180)\n",
    "\n",
    "print(f'Calculate distance and angle (0 and 180):{time.time() -time_0} ')\n",
    "time_0 = time.time()\n",
    "# Calculate the best two points by looking on their distance and angle. we compare the angle to the polylines angles\n",
    "avg= lines_in_buffer['angle'].mean()\n",
    "dis = abs(df_test['angle'] -avg)\n",
    "df_test['ratio'] = df_test['dist']/df_test['dist'].max() + 0.5*dis /dis.max()\n",
    "max_points = df_test.sort_values(by='ratio',ascending=False).iloc[0]\n",
    "print(f'Calculate the best two points by looking on their distance and angle:{time.time() -time_0} ')\n",
    "\n",
    "\n",
    "# These points will be served to be initial reference in order to find more points\n",
    "pnt_f = max_points['point_1']\n",
    "pnt_l = max_points['point_2']\n",
    "print(f'tot:{time.time() -time_00} ')\n"
   ]
  },
  {
   "cell_type": "code",
   "execution_count": 211,
   "metadata": {
    "collapsed": false,
    "pycharm": {
     "name": "#%%\n"
    }
   },
   "outputs": [
    {
     "name": "stdout",
     "output_type": "stream",
     "text": [
      "Add more vertices:2.07519793510437 \n"
     ]
    }
   ],
   "source": [
    "time_0 = time.time()\n",
    "\n",
    "# Add more vertices\n",
    "angl_rng = lines_in_buffer['angle'].max() - lines_in_buffer['angle'].min()\n",
    "if angl_rng <1: # If the angel range is less than 1 degree the line will be based on the first and last points\n",
    "        lines_pnt_geo = [pnt_f]\n",
    "else:\n",
    "    if angl_rng > 100: # Maximum of length to check is every 10 meters\n",
    "        length_to_check  =10\n",
    "    else:\n",
    "        length_to_check  =75-log2(angl_rng)*10 # The range of  length_to_check (logarithm to create more changes at the beginning)\n",
    "    lines_pnt_geo = add_more_pnts_to_new_lines(pnt_f, pnt_l, [pnt_f],length_to_check,lines_in_buffer)\n",
    "lines_pnt_geo.append(pnt_l)\n",
    "print(f'Add more vertices:{time.time() -time_0} ')\n",
    "# Update dic_final"
   ]
  },
  {
   "cell_type": "code",
   "execution_count": 214,
   "metadata": {
    "collapsed": false,
    "pycharm": {
     "name": "#%%\n"
    }
   },
   "outputs": [
    {
     "data": {
      "image/png": "[encoded data removed]",
      "text/plain": [
       "<Figure size 640x480 with 1 Axes>"
      ]
     },
     "metadata": {},
     "output_type": "display_data"
    }
   ],
   "source": [
    "# Draw for test\n",
    "# data.plot(color ='red')\n",
    "# ax= GeoDataFrame(geometry=[one_poly],crs=project_crs).plot(edgecolor='blue', linewidth=2.0, facecolor='none')\n",
    "\n",
    "# GeoDataFrame(geometry=[pnt_f,pnt_l],crs=project_crs).plot(ax= ax, color='red')\n",
    "# GeoDataFrame(geometry=lines_pnt_geo,crs=project_crs).plot(ax=ax,color ='red')\n",
    "ax= GeoDataFrame(geometry=[LineString(lines_pnt_geo)],crs=project_crs).plot( color ='blue')\n",
    "# GeoDataFrame(geometry=[LineString([pnt_f,pnt_l])],crs=project_crs).plot(ax=ax,color ='orange')\n",
    "# GeoDataFrame(geometry=[pnt_f,pnt_l],crs=project_crs).plot(ax= ax, color='red')"
   ]
  },
  {
   "cell_type": "code",
   "execution_count": null,
   "metadata": {
    "collapsed": false,
    "pycharm": {
     "name": "#%%\n"
    }
   },
   "outputs": [],
   "source": [
    "#  Store for test\n",
    "data_store =f'{data_folder}/add_more_points_to_line/'\n",
    "lines_in_buffer.to_file(f'{data_store}lines.shp')\n",
    "GeoDataFrame(geometry=[LineString([pnt_f,pnt_l])],crs=project_crs).to_file(f'{data_store}new_line.shp')\n",
    "GeoDataFrame(geometry=[LineString(lines_pnt_geo)],crs=project_crs).to_file(f'{data_store}all_line.shp')\n",
    "GeoDataFrame(geometry=lines_pnt_geo,crs=project_crs).to_file(f'{data_store}pnts.shp')"
   ]
  },
  {
   "cell_type": "code",
   "execution_count": 178,
   "metadata": {
    "collapsed": false,
    "pycharm": {
     "name": "#%%\n"
    }
   },
   "outputs": [
    {
     "data": {
      "image/png": "[encoded data removed]",
      "text/plain": [
       "<Figure size 640x480 with 1 Axes>"
      ]
     },
     "metadata": {},
     "output_type": "display_data"
    }
   ],
   "source": [
    "# Plot more results\n",
    "ax = data.plot(color ='blue')\n",
    "# ax= lines_in_buffer.plot(color ='yellow')\n",
    "# GeoDataFrame(geometry=[LineString(lines_pnt_geo)],crs=project_crs).plot(ax=ax,color ='orange')\n",
    "# GeoDataFrame(geometry=[one_poly],crs=project_crs).plot(ax=ax,edgecolor='blue', linewidth=2.0, facecolor='none')\n",
    "# GeoDataFrame(geometry=[pnt_f,pnt_l],crs=project_crs).plot(ax= ax, color='red')\n",
    "# #\n",
    "# GeoDataFrame(geometry=[LineString([pnt_f,pnt_l])],crs=project_crs).plot(ax=ax,color ='brown')\n",
    "# lines_in_buffer.plot(ax=ax,color ='yellow')"
   ]
  },
  {
   "cell_type": "code",
   "execution_count": 215,
   "metadata": {
    "collapsed": false,
    "pycharm": {
     "name": "#%%\n"
    }
   },
   "outputs": [],
   "source": [
    "# More visualizations  for test\n",
    "data_store = f'{data_folder}/add_more_points_to_line/{name}/'\n",
    "os.makedirs(data_store,exist_ok = True)\n",
    "\n",
    "GeoDataFrame(geometry=[LineString(lines_pnt_geo)],crs=project_crs).to_file(f'{data_store}final_line.shp')\n",
    "GeoDataFrame(geometry=[one_poly],crs=project_crs).to_file(f'{data_store}one_poly.shp')\n",
    "\n",
    "# ax= GeoDataFrame(geometry=[one_poly],crs=project_crs).plot(edgecolor='blue', linewidth=2.0, facecolor='none')\n",
    "# GeoDataFrame(geometry=[pnt_f,pnt_l],crs=project_crs).plot(ax= ax, color='red')\n",
    "GeoDataFrame(geometry=lines_pnt_geo,crs=project_crs).to_file(f'{data_store}new_lines_pnt.shp')\n",
    "lines_in_buffer.to_file(f'{data_store}lines_in_buffer.shp')\n",
    "GeoDataFrame(geometry=[LineString([pnt_f,pnt_l])],crs=project_crs).to_file(f'{data_store}first_line.shp')"
   ]
  },
  {
   "cell_type": "code",
   "execution_count": null,
   "metadata": {
    "collapsed": false,
    "pycharm": {
     "name": "#%%\n"
    }
   },
   "outputs": [],
   "source": [
    "# test intersection - update names\n",
    "# Start from here\n",
    "with open(f'{data_folder}/intersection/network_2.pkl', \"rb\") as f:\n",
    "    df1= pickle.load(f)\n",
    "with open(f'{data_folder}/intersection/extend_lines_f.pkl', \"rb\") as f:\n",
    "    org_gpd= pickle.load(f)\n",
    "\n",
    "# Split df1 into two GeoDataFrames: df3 (with names) and df4 (without names)\n",
    "df3 = df1[df1['name'].notna()]\n",
    "# df3.to_file(f'{data_folder}/delete_2_nodes/with_name.shp')\n",
    "df4 = df1[df1['name'].isna()]\n",
    "# df4.reset_index().to_file(f'{data_folder}/delete_2_nodes/no_name_init.shp')\n",
    "\n",
    "# use only one polyline from the original dataframe for name even if the algorithm may found more\n",
    "old_index  ='old_index'\n",
    "\n",
    "df = gpd.sjoin(df4, org_gpd).reset_index(names='old_index')\n",
    "# Create a new dictionary to store the updated data.\n",
    "dic_str_data = {}\n",
    "# Define the relevant columns to store\n",
    "rel_col  =[col for col in df.columns if col.endswith(\"right\")]+['geometry']\n",
    "rel_col.remove('index_right')\n",
    "\n",
    "# nore code should be added here to update name"
   ]
  },
  {
   "cell_type": "markdown",
   "metadata": {
    "collapsed": false,
    "pycharm": {
     "name": "#%% md\n"
    }
   },
   "source": [
    "Code to consolidate nearest intersections\n",
    "1. Get the first/start of each line\n",
    "2. Make sure I have the name of the lines associated with these lines\n",
    "3. Use DBSCAN with 20 meters threshold\n",
    "4. For each group\n",
    "   4.1.dffds\n",
    "   4.2 fj;ldsfads\n",
    "\n",
    "\n"
   ]
  },
  {
   "cell_type": "code",
   "execution_count": null,
   "metadata": {
    "collapsed": false,
    "pycharm": {
     "name": "#%%\n"
    }
   },
   "outputs": [],
   "source": []
  }
 ],
 "metadata": {
  "kernelspec": {
   "display_name": "Python 3",
   "language": "python",
   "name": "python3"
  },
  "language_info": {
   "codemirror_mode": {
    "name": "ipython",
    "version": 2
   },
   "file_extension": ".py",
   "mimetype": "text/x-python",
   "name": "python",
   "nbconvert_exporter": "python",
   "pygments_lexer": "ipython2",
   "version": "2.7.6"
  }
 },
 "nbformat": 4,
 "nbformat_minor": 0
}
